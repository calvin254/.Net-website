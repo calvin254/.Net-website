{
 "cells": [
  {
   "cell_type": "code",
   "execution_count": 1,
   "id": "6d6cbca5",
   "metadata": {
    "_cell_guid": "b1076dfc-b9ad-4769-8c92-a6c4dae69d19",
    "_uuid": "8f2839f25d086af736a60e9eeb907d3b93b6e0e5",
    "execution": {
     "iopub.execute_input": "2025-06-01T13:51:04.129534Z",
     "iopub.status.busy": "2025-06-01T13:51:04.128566Z",
     "iopub.status.idle": "2025-06-01T13:51:08.752571Z",
     "shell.execute_reply": "2025-06-01T13:51:08.751612Z"
    },
    "papermill": {
     "duration": 4.63294,
     "end_time": "2025-06-01T13:51:08.754400",
     "exception": false,
     "start_time": "2025-06-01T13:51:04.121460",
     "status": "completed"
    },
    "tags": []
   },
   "outputs": [],
   "source": [
    "from sklearn.datasets import load_iris\n",
    "import pandas as pd\n",
    "import numpy as np\n",
    "from sklearn.datasets import load_iris\n",
    "from sklearn.impute import SimpleImputer\n",
    "from sklearn.preprocessing import StandardScaler, OneHotEncoder\n",
    "from sklearn.compose import ColumnTransformer\n",
    "from sklearn.pipeline import Pipeline\n"
   ]
  },
  {
   "cell_type": "code",
   "execution_count": 2,
   "id": "12415926",
   "metadata": {
    "execution": {
     "iopub.execute_input": "2025-06-01T13:51:08.766631Z",
     "iopub.status.busy": "2025-06-01T13:51:08.766183Z",
     "iopub.status.idle": "2025-06-01T13:51:08.778152Z",
     "shell.execute_reply": "2025-06-01T13:51:08.776936Z"
    },
    "papermill": {
     "duration": 0.020269,
     "end_time": "2025-06-01T13:51:08.780086",
     "exception": false,
     "start_time": "2025-06-01T13:51:08.759817",
     "status": "completed"
    },
    "tags": []
   },
   "outputs": [],
   "source": [
    "# Load dataset\n",
    "iris = load_iris()\n",
    "X = iris.data\n",
    "y = iris.target\n"
   ]
  },
  {
   "cell_type": "markdown",
   "id": "3cae3d4c",
   "metadata": {
    "papermill": {
     "duration": 0.004521,
     "end_time": "2025-06-01T13:51:08.789832",
     "exception": false,
     "start_time": "2025-06-01T13:51:08.785311",
     "status": "completed"
    },
    "tags": []
   },
   "source": [
    "Spliting the Data into Training and Test Sets"
   ]
  },
  {
   "cell_type": "code",
   "execution_count": 3,
   "id": "e2829cb5",
   "metadata": {
    "execution": {
     "iopub.execute_input": "2025-06-01T13:51:08.801075Z",
     "iopub.status.busy": "2025-06-01T13:51:08.800355Z",
     "iopub.status.idle": "2025-06-01T13:51:08.808264Z",
     "shell.execute_reply": "2025-06-01T13:51:08.807048Z"
    },
    "papermill": {
     "duration": 0.01531,
     "end_time": "2025-06-01T13:51:08.809905",
     "exception": false,
     "start_time": "2025-06-01T13:51:08.794595",
     "status": "completed"
    },
    "tags": []
   },
   "outputs": [],
   "source": [
    "from sklearn.model_selection import train_test_split\n",
    "\n",
    "# Split data: 80% training, 20% testing\n",
    "X_train, X_test, y_train, y_test = train_test_split(X, y, test_size=0.2, random_state=42)\n"
   ]
  },
  {
   "cell_type": "markdown",
   "id": "67244a3f",
   "metadata": {
    "papermill": {
     "duration": 0.004613,
     "end_time": "2025-06-01T13:51:08.819434",
     "exception": false,
     "start_time": "2025-06-01T13:51:08.814821",
     "status": "completed"
    },
    "tags": []
   },
   "source": [
    " Training a KNN Model"
   ]
  },
  {
   "cell_type": "code",
   "execution_count": 4,
   "id": "f7bbe474",
   "metadata": {
    "execution": {
     "iopub.execute_input": "2025-06-01T13:51:08.830315Z",
     "iopub.status.busy": "2025-06-01T13:51:08.829978Z",
     "iopub.status.idle": "2025-06-01T13:51:08.846921Z",
     "shell.execute_reply": "2025-06-01T13:51:08.845735Z"
    },
    "papermill": {
     "duration": 0.024696,
     "end_time": "2025-06-01T13:51:08.848855",
     "exception": false,
     "start_time": "2025-06-01T13:51:08.824159",
     "status": "completed"
    },
    "tags": []
   },
   "outputs": [
    {
     "data": {
      "text/html": [
       "<style>#sk-container-id-1 {color: black;background-color: white;}#sk-container-id-1 pre{padding: 0;}#sk-container-id-1 div.sk-toggleable {background-color: white;}#sk-container-id-1 label.sk-toggleable__label {cursor: pointer;display: block;width: 100%;margin-bottom: 0;padding: 0.3em;box-sizing: border-box;text-align: center;}#sk-container-id-1 label.sk-toggleable__label-arrow:before {content: \"▸\";float: left;margin-right: 0.25em;color: #696969;}#sk-container-id-1 label.sk-toggleable__label-arrow:hover:before {color: black;}#sk-container-id-1 div.sk-estimator:hover label.sk-toggleable__label-arrow:before {color: black;}#sk-container-id-1 div.sk-toggleable__content {max-height: 0;max-width: 0;overflow: hidden;text-align: left;background-color: #f0f8ff;}#sk-container-id-1 div.sk-toggleable__content pre {margin: 0.2em;color: black;border-radius: 0.25em;background-color: #f0f8ff;}#sk-container-id-1 input.sk-toggleable__control:checked~div.sk-toggleable__content {max-height: 200px;max-width: 100%;overflow: auto;}#sk-container-id-1 input.sk-toggleable__control:checked~label.sk-toggleable__label-arrow:before {content: \"▾\";}#sk-container-id-1 div.sk-estimator input.sk-toggleable__control:checked~label.sk-toggleable__label {background-color: #d4ebff;}#sk-container-id-1 div.sk-label input.sk-toggleable__control:checked~label.sk-toggleable__label {background-color: #d4ebff;}#sk-container-id-1 input.sk-hidden--visually {border: 0;clip: rect(1px 1px 1px 1px);clip: rect(1px, 1px, 1px, 1px);height: 1px;margin: -1px;overflow: hidden;padding: 0;position: absolute;width: 1px;}#sk-container-id-1 div.sk-estimator {font-family: monospace;background-color: #f0f8ff;border: 1px dotted black;border-radius: 0.25em;box-sizing: border-box;margin-bottom: 0.5em;}#sk-container-id-1 div.sk-estimator:hover {background-color: #d4ebff;}#sk-container-id-1 div.sk-parallel-item::after {content: \"\";width: 100%;border-bottom: 1px solid gray;flex-grow: 1;}#sk-container-id-1 div.sk-label:hover label.sk-toggleable__label {background-color: #d4ebff;}#sk-container-id-1 div.sk-serial::before {content: \"\";position: absolute;border-left: 1px solid gray;box-sizing: border-box;top: 0;bottom: 0;left: 50%;z-index: 0;}#sk-container-id-1 div.sk-serial {display: flex;flex-direction: column;align-items: center;background-color: white;padding-right: 0.2em;padding-left: 0.2em;position: relative;}#sk-container-id-1 div.sk-item {position: relative;z-index: 1;}#sk-container-id-1 div.sk-parallel {display: flex;align-items: stretch;justify-content: center;background-color: white;position: relative;}#sk-container-id-1 div.sk-item::before, #sk-container-id-1 div.sk-parallel-item::before {content: \"\";position: absolute;border-left: 1px solid gray;box-sizing: border-box;top: 0;bottom: 0;left: 50%;z-index: -1;}#sk-container-id-1 div.sk-parallel-item {display: flex;flex-direction: column;z-index: 1;position: relative;background-color: white;}#sk-container-id-1 div.sk-parallel-item:first-child::after {align-self: flex-end;width: 50%;}#sk-container-id-1 div.sk-parallel-item:last-child::after {align-self: flex-start;width: 50%;}#sk-container-id-1 div.sk-parallel-item:only-child::after {width: 0;}#sk-container-id-1 div.sk-dashed-wrapped {border: 1px dashed gray;margin: 0 0.4em 0.5em 0.4em;box-sizing: border-box;padding-bottom: 0.4em;background-color: white;}#sk-container-id-1 div.sk-label label {font-family: monospace;font-weight: bold;display: inline-block;line-height: 1.2em;}#sk-container-id-1 div.sk-label-container {text-align: center;}#sk-container-id-1 div.sk-container {/* jupyter's `normalize.less` sets `[hidden] { display: none; }` but bootstrap.min.css set `[hidden] { display: none !important; }` so we also need the `!important` here to be able to override the default hidden behavior on the sphinx rendered scikit-learn.org. See: https://github.com/scikit-learn/scikit-learn/issues/21755 */display: inline-block !important;position: relative;}#sk-container-id-1 div.sk-text-repr-fallback {display: none;}</style><div id=\"sk-container-id-1\" class=\"sk-top-container\"><div class=\"sk-text-repr-fallback\"><pre>KNeighborsClassifier(n_neighbors=3)</pre><b>In a Jupyter environment, please rerun this cell to show the HTML representation or trust the notebook. <br />On GitHub, the HTML representation is unable to render, please try loading this page with nbviewer.org.</b></div><div class=\"sk-container\" hidden><div class=\"sk-item\"><div class=\"sk-estimator sk-toggleable\"><input class=\"sk-toggleable__control sk-hidden--visually\" id=\"sk-estimator-id-1\" type=\"checkbox\" checked><label for=\"sk-estimator-id-1\" class=\"sk-toggleable__label sk-toggleable__label-arrow\">KNeighborsClassifier</label><div class=\"sk-toggleable__content\"><pre>KNeighborsClassifier(n_neighbors=3)</pre></div></div></div></div></div>"
      ],
      "text/plain": [
       "KNeighborsClassifier(n_neighbors=3)"
      ]
     },
     "execution_count": 4,
     "metadata": {},
     "output_type": "execute_result"
    }
   ],
   "source": [
    "from sklearn.neighbors import KNeighborsClassifier\n",
    "\n",
    "# Create KNN model with k=3\n",
    "knn = KNeighborsClassifier(n_neighbors=3)\n",
    "knn.fit(X_train, y_train)\n"
   ]
  },
  {
   "cell_type": "markdown",
   "id": "76f49694",
   "metadata": {
    "papermill": {
     "duration": 0.004875,
     "end_time": "2025-06-01T13:51:08.859524",
     "exception": false,
     "start_time": "2025-06-01T13:51:08.854649",
     "status": "completed"
    },
    "tags": []
   },
   "source": [
    "Evaluate Using Accuracy and F1 Score"
   ]
  },
  {
   "cell_type": "code",
   "execution_count": 5,
   "id": "c6e9a7c5",
   "metadata": {
    "execution": {
     "iopub.execute_input": "2025-06-01T13:51:08.871352Z",
     "iopub.status.busy": "2025-06-01T13:51:08.871000Z",
     "iopub.status.idle": "2025-06-01T13:51:08.885409Z",
     "shell.execute_reply": "2025-06-01T13:51:08.884238Z"
    },
    "papermill": {
     "duration": 0.022787,
     "end_time": "2025-06-01T13:51:08.887329",
     "exception": false,
     "start_time": "2025-06-01T13:51:08.864542",
     "status": "completed"
    },
    "tags": []
   },
   "outputs": [
    {
     "name": "stdout",
     "output_type": "stream",
     "text": [
      "Accuracy: 1.00\n",
      "F1 Score: 1.00\n"
     ]
    }
   ],
   "source": [
    "from sklearn.metrics import accuracy_score, f1_score\n",
    "\n",
    "# Predict on test set\n",
    "y_pred = knn.predict(X_test)\n",
    "\n",
    "# Evaluation\n",
    "accuracy = accuracy_score(y_test, y_pred)\n",
    "f1 = f1_score(y_test, y_pred, average='weighted')  # 'weighted' for multiclass\n",
    "\n",
    "print(f\"Accuracy: {accuracy:.2f}\")\n",
    "print(f\"F1 Score: {f1:.2f}\")\n"
   ]
  },
  {
   "cell_type": "markdown",
   "id": "eaf7ccd6",
   "metadata": {
    "papermill": {
     "duration": 0.004906,
     "end_time": "2025-06-01T13:51:08.897513",
     "exception": false,
     "start_time": "2025-06-01T13:51:08.892607",
     "status": "completed"
    },
    "tags": []
   },
   "source": [
    "Simulate a categorical feature for one-hot encoding"
   ]
  },
  {
   "cell_type": "code",
   "execution_count": 6,
   "id": "eb5c667d",
   "metadata": {
    "execution": {
     "iopub.execute_input": "2025-06-01T13:51:08.910120Z",
     "iopub.status.busy": "2025-06-01T13:51:08.908814Z",
     "iopub.status.idle": "2025-06-01T13:51:08.919040Z",
     "shell.execute_reply": "2025-06-01T13:51:08.918151Z"
    },
    "papermill": {
     "duration": 0.018001,
     "end_time": "2025-06-01T13:51:08.920700",
     "exception": false,
     "start_time": "2025-06-01T13:51:08.902699",
     "status": "completed"
    },
    "tags": []
   },
   "outputs": [],
   "source": [
    "# Load Iris dataset\n",
    "iris = load_iris()\n",
    "X = pd.DataFrame(iris.data, columns=iris.feature_names)"
   ]
  },
  {
   "cell_type": "code",
   "execution_count": 7,
   "id": "ededd12c",
   "metadata": {
    "execution": {
     "iopub.execute_input": "2025-06-01T13:51:08.932546Z",
     "iopub.status.busy": "2025-06-01T13:51:08.932224Z",
     "iopub.status.idle": "2025-06-01T13:51:08.952831Z",
     "shell.execute_reply": "2025-06-01T13:51:08.951777Z"
    },
    "papermill": {
     "duration": 0.028653,
     "end_time": "2025-06-01T13:51:08.954616",
     "exception": false,
     "start_time": "2025-06-01T13:51:08.925963",
     "status": "completed"
    },
    "tags": []
   },
   "outputs": [],
   "source": [
    "X['petal size'] = pd.cut(X['petal length (cm)'], bins=3, labels=['small', 'medium', 'large'])\n"
   ]
  },
  {
   "cell_type": "markdown",
   "id": "dd0dd522",
   "metadata": {
    "papermill": {
     "duration": 0.00498,
     "end_time": "2025-06-01T13:51:08.965074",
     "exception": false,
     "start_time": "2025-06-01T13:51:08.960094",
     "status": "completed"
    },
    "tags": []
   },
   "source": [
    "Simulate missing values in 'sepal length (cm)'"
   ]
  },
  {
   "cell_type": "code",
   "execution_count": 8,
   "id": "43294835",
   "metadata": {
    "execution": {
     "iopub.execute_input": "2025-06-01T13:51:08.978310Z",
     "iopub.status.busy": "2025-06-01T13:51:08.977386Z",
     "iopub.status.idle": "2025-06-01T13:51:08.984439Z",
     "shell.execute_reply": "2025-06-01T13:51:08.983334Z"
    },
    "papermill": {
     "duration": 0.015507,
     "end_time": "2025-06-01T13:51:08.986211",
     "exception": false,
     "start_time": "2025-06-01T13:51:08.970704",
     "status": "completed"
    },
    "tags": []
   },
   "outputs": [],
   "source": [
    "X.loc[0:10, 'sepal length (cm)'] = np.nan"
   ]
  },
  {
   "cell_type": "markdown",
   "id": "6909aa05",
   "metadata": {
    "papermill": {
     "duration": 0.004827,
     "end_time": "2025-06-01T13:51:08.996948",
     "exception": false,
     "start_time": "2025-06-01T13:51:08.992121",
     "status": "completed"
    },
    "tags": []
   },
   "source": [
    "Define numerical and categorical columns"
   ]
  },
  {
   "cell_type": "code",
   "execution_count": 9,
   "id": "1443bff3",
   "metadata": {
    "execution": {
     "iopub.execute_input": "2025-06-01T13:51:09.008559Z",
     "iopub.status.busy": "2025-06-01T13:51:09.008229Z",
     "iopub.status.idle": "2025-06-01T13:51:09.013197Z",
     "shell.execute_reply": "2025-06-01T13:51:09.012165Z"
    },
    "papermill": {
     "duration": 0.012824,
     "end_time": "2025-06-01T13:51:09.014919",
     "exception": false,
     "start_time": "2025-06-01T13:51:09.002095",
     "status": "completed"
    },
    "tags": []
   },
   "outputs": [],
   "source": [
    "numeric_features = ['sepal length (cm)', 'sepal width (cm)', 'petal length (cm)', 'petal width (cm)']\n",
    "categorical_features = ['petal size']"
   ]
  },
  {
   "cell_type": "markdown",
   "id": "aaf2702e",
   "metadata": {
    "papermill": {
     "duration": 0.004873,
     "end_time": "2025-06-01T13:51:09.025193",
     "exception": false,
     "start_time": "2025-06-01T13:51:09.020320",
     "status": "completed"
    },
    "tags": []
   },
   "source": [
    "missing values and standardize"
   ]
  },
  {
   "cell_type": "code",
   "execution_count": 10,
   "id": "2530db7c",
   "metadata": {
    "execution": {
     "iopub.execute_input": "2025-06-01T13:51:09.037044Z",
     "iopub.status.busy": "2025-06-01T13:51:09.036670Z",
     "iopub.status.idle": "2025-06-01T13:51:09.041585Z",
     "shell.execute_reply": "2025-06-01T13:51:09.040655Z"
    },
    "papermill": {
     "duration": 0.012609,
     "end_time": "2025-06-01T13:51:09.043234",
     "exception": false,
     "start_time": "2025-06-01T13:51:09.030625",
     "status": "completed"
    },
    "tags": []
   },
   "outputs": [],
   "source": [
    "numeric_transformer = Pipeline(steps=[\n",
    "    ('imputer', SimpleImputer(strategy='mean')),\n",
    "    ('scaler', StandardScaler())\n",
    "])\n"
   ]
  },
  {
   "cell_type": "markdown",
   "id": "9f7d4e26",
   "metadata": {
    "papermill": {
     "duration": 0.004833,
     "end_time": "2025-06-01T13:51:09.053384",
     "exception": false,
     "start_time": "2025-06-01T13:51:09.048551",
     "status": "completed"
    },
    "tags": []
   },
   "source": [
    "one-hot encode 'petal size'"
   ]
  },
  {
   "cell_type": "code",
   "execution_count": 11,
   "id": "054c7dfb",
   "metadata": {
    "execution": {
     "iopub.execute_input": "2025-06-01T13:51:09.064701Z",
     "iopub.status.busy": "2025-06-01T13:51:09.064361Z",
     "iopub.status.idle": "2025-06-01T13:51:09.069335Z",
     "shell.execute_reply": "2025-06-01T13:51:09.068405Z"
    },
    "papermill": {
     "duration": 0.012474,
     "end_time": "2025-06-01T13:51:09.070839",
     "exception": false,
     "start_time": "2025-06-01T13:51:09.058365",
     "status": "completed"
    },
    "tags": []
   },
   "outputs": [],
   "source": [
    "categorical_transformer = Pipeline(steps=[\n",
    "    ('encoder', OneHotEncoder(drop='first'))\n",
    "])"
   ]
  },
  {
   "cell_type": "markdown",
   "id": "6e602abd",
   "metadata": {
    "papermill": {
     "duration": 0.004829,
     "end_time": "2025-06-01T13:51:09.081370",
     "exception": false,
     "start_time": "2025-06-01T13:51:09.076541",
     "status": "completed"
    },
    "tags": []
   },
   "source": [
    "Full transformer"
   ]
  },
  {
   "cell_type": "code",
   "execution_count": 12,
   "id": "c3cb99e9",
   "metadata": {
    "execution": {
     "iopub.execute_input": "2025-06-01T13:51:09.093494Z",
     "iopub.status.busy": "2025-06-01T13:51:09.093111Z",
     "iopub.status.idle": "2025-06-01T13:51:09.098262Z",
     "shell.execute_reply": "2025-06-01T13:51:09.097179Z"
    },
    "papermill": {
     "duration": 0.013466,
     "end_time": "2025-06-01T13:51:09.100217",
     "exception": false,
     "start_time": "2025-06-01T13:51:09.086751",
     "status": "completed"
    },
    "tags": []
   },
   "outputs": [],
   "source": [
    "preprocessor = ColumnTransformer(transformers=[\n",
    "    ('num', numeric_transformer, numeric_features),\n",
    "    ('cat', categorical_transformer, categorical_features)\n",
    "])"
   ]
  },
  {
   "cell_type": "markdown",
   "id": "d8c9ade1",
   "metadata": {
    "papermill": {
     "duration": 0.004759,
     "end_time": "2025-06-01T13:51:09.110665",
     "exception": false,
     "start_time": "2025-06-01T13:51:09.105906",
     "status": "completed"
    },
    "tags": []
   },
   "source": [
    "Apply transformations"
   ]
  },
  {
   "cell_type": "code",
   "execution_count": 13,
   "id": "cf761c3c",
   "metadata": {
    "execution": {
     "iopub.execute_input": "2025-06-01T13:51:09.122188Z",
     "iopub.status.busy": "2025-06-01T13:51:09.121778Z",
     "iopub.status.idle": "2025-06-01T13:51:09.143916Z",
     "shell.execute_reply": "2025-06-01T13:51:09.142540Z"
    },
    "papermill": {
     "duration": 0.030102,
     "end_time": "2025-06-01T13:51:09.145853",
     "exception": false,
     "start_time": "2025-06-01T13:51:09.115751",
     "status": "completed"
    },
    "tags": []
   },
   "outputs": [],
   "source": [
    "X_transformed = preprocessor.fit_transform(X)\n"
   ]
  },
  {
   "cell_type": "code",
   "execution_count": 14,
   "id": "e068d7e4",
   "metadata": {
    "execution": {
     "iopub.execute_input": "2025-06-01T13:51:09.158305Z",
     "iopub.status.busy": "2025-06-01T13:51:09.157503Z",
     "iopub.status.idle": "2025-06-01T13:51:09.163411Z",
     "shell.execute_reply": "2025-06-01T13:51:09.161953Z"
    },
    "papermill": {
     "duration": 0.013978,
     "end_time": "2025-06-01T13:51:09.165219",
     "exception": false,
     "start_time": "2025-06-01T13:51:09.151241",
     "status": "completed"
    },
    "tags": []
   },
   "outputs": [],
   "source": [
    "encoded_cat_names = preprocessor.named_transformers_['cat']['encoder'].get_feature_names_out(categorical_features)\n",
    "all_feature_names = numeric_features + list(encoded_cat_names)"
   ]
  },
  {
   "cell_type": "markdown",
   "id": "f956eb67",
   "metadata": {
    "papermill": {
     "duration": 0.004825,
     "end_time": "2025-06-01T13:51:09.175334",
     "exception": false,
     "start_time": "2025-06-01T13:51:09.170509",
     "status": "completed"
    },
    "tags": []
   },
   "source": [
    "feature names for final DataFrame"
   ]
  },
  {
   "cell_type": "code",
   "execution_count": 15,
   "id": "d5859e8b",
   "metadata": {
    "execution": {
     "iopub.execute_input": "2025-06-01T13:51:09.186839Z",
     "iopub.status.busy": "2025-06-01T13:51:09.186517Z",
     "iopub.status.idle": "2025-06-01T13:51:09.192180Z",
     "shell.execute_reply": "2025-06-01T13:51:09.190909Z"
    },
    "papermill": {
     "duration": 0.013361,
     "end_time": "2025-06-01T13:51:09.193902",
     "exception": false,
     "start_time": "2025-06-01T13:51:09.180541",
     "status": "completed"
    },
    "tags": []
   },
   "outputs": [],
   "source": [
    "X_final = pd.DataFrame(X_transformed, columns=all_feature_names)"
   ]
  },
  {
   "cell_type": "markdown",
   "id": "401f4a59",
   "metadata": {
    "papermill": {
     "duration": 0.004815,
     "end_time": "2025-06-01T13:51:09.204098",
     "exception": false,
     "start_time": "2025-06-01T13:51:09.199283",
     "status": "completed"
    },
    "tags": []
   },
   "source": [
    "final DataFrame with updated features"
   ]
  },
  {
   "cell_type": "code",
   "execution_count": 16,
   "id": "0207934c",
   "metadata": {
    "execution": {
     "iopub.execute_input": "2025-06-01T13:51:09.215633Z",
     "iopub.status.busy": "2025-06-01T13:51:09.215323Z",
     "iopub.status.idle": "2025-06-01T13:51:09.230724Z",
     "shell.execute_reply": "2025-06-01T13:51:09.229622Z"
    },
    "papermill": {
     "duration": 0.023326,
     "end_time": "2025-06-01T13:51:09.232624",
     "exception": false,
     "start_time": "2025-06-01T13:51:09.209298",
     "status": "completed"
    },
    "tags": []
   },
   "outputs": [
    {
     "name": "stdout",
     "output_type": "stream",
     "text": [
      "Transformation complete. File saved as 'iris_updated.csv'.\n"
     ]
    }
   ],
   "source": [
    "X_final.to_csv(\"iris_updated.csv\", index=False)\n",
    "print(\"Transformation complete. File saved as 'iris_updated.csv'.\")"
   ]
  }
 ],
 "metadata": {
  "kaggle": {
   "accelerator": "none",
   "dataSources": [],
   "dockerImageVersionId": 31040,
   "isGpuEnabled": false,
   "isInternetEnabled": true,
   "language": "python",
   "sourceType": "notebook"
  },
  "kernelspec": {
   "display_name": "Python 3",
   "language": "python",
   "name": "python3"
  },
  "language_info": {
   "codemirror_mode": {
    "name": "ipython",
    "version": 3
   },
   "file_extension": ".py",
   "mimetype": "text/x-python",
   "name": "python",
   "nbconvert_exporter": "python",
   "pygments_lexer": "ipython3",
   "version": "3.11.11"
  },
  "papermill": {
   "default_parameters": {},
   "duration": 11.281719,
   "end_time": "2025-06-01T13:51:09.959273",
   "environment_variables": {},
   "exception": null,
   "input_path": "__notebook__.ipynb",
   "output_path": "__notebook__.ipynb",
   "parameters": {},
   "start_time": "2025-06-01T13:50:58.677554",
   "version": "2.6.0"
  }
 },
 "nbformat": 4,
 "nbformat_minor": 5
}
