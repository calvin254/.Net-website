{
 "cells": [
  {
   "cell_type": "code",
   "execution_count": 1,
   "id": "f35819e8",
   "metadata": {
    "_cell_guid": "b1076dfc-b9ad-4769-8c92-a6c4dae69d19",
    "_uuid": "8f2839f25d086af736a60e9eeb907d3b93b6e0e5",
    "execution": {
     "iopub.execute_input": "2025-06-15T23:29:45.465585Z",
     "iopub.status.busy": "2025-06-15T23:29:45.464742Z",
     "iopub.status.idle": "2025-06-15T23:29:45.471937Z",
     "shell.execute_reply": "2025-06-15T23:29:45.471211Z"
    },
    "papermill": {
     "duration": 0.012261,
     "end_time": "2025-06-15T23:29:45.473541",
     "exception": false,
     "start_time": "2025-06-15T23:29:45.461280",
     "status": "completed"
    },
    "tags": []
   },
   "outputs": [],
   "source": [
    "import numpy as np\n",
    "\n"
   ]
  },
  {
   "cell_type": "code",
   "execution_count": 2,
   "id": "d3b38226",
   "metadata": {
    "execution": {
     "iopub.execute_input": "2025-06-15T23:29:45.478416Z",
     "iopub.status.busy": "2025-06-15T23:29:45.478126Z",
     "iopub.status.idle": "2025-06-15T23:29:45.482943Z",
     "shell.execute_reply": "2025-06-15T23:29:45.482023Z"
    },
    "papermill": {
     "duration": 0.008786,
     "end_time": "2025-06-15T23:29:45.484355",
     "exception": false,
     "start_time": "2025-06-15T23:29:45.475569",
     "status": "completed"
    },
    "tags": []
   },
   "outputs": [],
   "source": [
    "# Define values of x and their corresponding probabilities\n",
    "x = np.array([0, 1, 2, 3, 4, 5, 6, 7, 8, 9, 10, 11, 12])\n",
    "p = np.array([\n",
    "    0.0408, 0.1304, 0.2087, 0.2226, 0.1781, 0.114, 0.0608,\n",
    "    0.0278, 0.0111, 0.004, 0.0012, 0.0004, 0.0001\n",
    "])\n",
    "\n"
   ]
  },
  {
   "cell_type": "code",
   "execution_count": 3,
   "id": "e6ad6238",
   "metadata": {
    "execution": {
     "iopub.execute_input": "2025-06-15T23:29:45.488884Z",
     "iopub.status.busy": "2025-06-15T23:29:45.488537Z",
     "iopub.status.idle": "2025-06-15T23:29:45.492440Z",
     "shell.execute_reply": "2025-06-15T23:29:45.491717Z"
    },
    "papermill": {
     "duration": 0.007597,
     "end_time": "2025-06-15T23:29:45.493933",
     "exception": false,
     "start_time": "2025-06-15T23:29:45.486336",
     "status": "completed"
    },
    "tags": []
   },
   "outputs": [],
   "source": [
    "# Calculate the mean (expected value)\n",
    "mean = np.sum(x * p)\n",
    "\n"
   ]
  },
  {
   "cell_type": "code",
   "execution_count": 4,
   "id": "f792dd7d",
   "metadata": {
    "execution": {
     "iopub.execute_input": "2025-06-15T23:29:45.498452Z",
     "iopub.status.busy": "2025-06-15T23:29:45.498179Z",
     "iopub.status.idle": "2025-06-15T23:29:45.504160Z",
     "shell.execute_reply": "2025-06-15T23:29:45.503230Z"
    },
    "papermill": {
     "duration": 0.009878,
     "end_time": "2025-06-15T23:29:45.505735",
     "exception": false,
     "start_time": "2025-06-15T23:29:45.495857",
     "status": "completed"
    },
    "tags": []
   },
   "outputs": [
    {
     "name": "stdout",
     "output_type": "stream",
     "text": [
      "Mean: 3.2\n",
      "Standard Deviation: 1.788\n"
     ]
    }
   ],
   "source": [
    "# Calculate the variance and standard deviation\n",
    "variance = np.sum(((x - mean) ** 2) * p)\n",
    "std_dev = np.sqrt(variance)\n",
    "\n",
    "print(\"Mean:\", round(mean, 1))\n",
    "print(\"Standard Deviation:\", round(std_dev, 3))\n"
   ]
  }
 ],
 "metadata": {
  "kaggle": {
   "accelerator": "none",
   "dataSources": [],
   "dockerImageVersionId": 31040,
   "isGpuEnabled": false,
   "isInternetEnabled": true,
   "language": "python",
   "sourceType": "notebook"
  },
  "kernelspec": {
   "display_name": "Python 3",
   "language": "python",
   "name": "python3"
  },
  "language_info": {
   "codemirror_mode": {
    "name": "ipython",
    "version": 3
   },
   "file_extension": ".py",
   "mimetype": "text/x-python",
   "name": "python",
   "nbconvert_exporter": "python",
   "pygments_lexer": "ipython3",
   "version": "3.11.11"
  },
  "papermill": {
   "default_parameters": {},
   "duration": 7.145226,
   "end_time": "2025-06-15T23:29:45.928608",
   "environment_variables": {},
   "exception": null,
   "input_path": "__notebook__.ipynb",
   "output_path": "__notebook__.ipynb",
   "parameters": {},
   "start_time": "2025-06-15T23:29:38.783382",
   "version": "2.6.0"
  }
 },
 "nbformat": 4,
 "nbformat_minor": 5
}
