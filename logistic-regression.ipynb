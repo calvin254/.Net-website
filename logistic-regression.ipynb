{
 "cells": [
  {
   "cell_type": "code",
   "execution_count": 1,
   "id": "d196cebf",
   "metadata": {
    "_cell_guid": "b1076dfc-b9ad-4769-8c92-a6c4dae69d19",
    "_uuid": "8f2839f25d086af736a60e9eeb907d3b93b6e0e5",
    "execution": {
     "iopub.execute_input": "2025-07-06T20:34:42.434571Z",
     "iopub.status.busy": "2025-07-06T20:34:42.433829Z",
     "iopub.status.idle": "2025-07-06T20:34:53.861495Z",
     "shell.execute_reply": "2025-07-06T20:34:53.860462Z"
    },
    "papermill": {
     "duration": 11.43302,
     "end_time": "2025-07-06T20:34:53.863326",
     "exception": false,
     "start_time": "2025-07-06T20:34:42.430306",
     "status": "completed"
    },
    "tags": []
   },
   "outputs": [
    {
     "name": "stdout",
     "output_type": "stream",
     "text": [
      "\n",
      "🔍 Model Comparison (Accuracy and AUC):\n",
      "Default Logistic Regression (lbfgs):   Accuracy = 0.7109 | AUC = 0.7740\n",
      "Logistic Regression (saga):            Accuracy = 0.7109 | AUC = 0.7740\n",
      "Logistic Regression (L1, saga):        Accuracy = 0.7114 | AUC = 0.7740\n"
     ]
    }
   ],
   "source": [
    "import pandas as pd\n",
    "import numpy as np\n",
    "from sklearn.model_selection import train_test_split\n",
    "from sklearn.linear_model import LogisticRegression\n",
    "from sklearn.metrics import accuracy_score, classification_report, roc_auc_score\n",
    "from sklearn.preprocessing import StandardScaler\n",
    "\n",
    "# Load data\n",
    "file_path = \"/kaggle/input/recidivism/NIJ_s_Recidivism_Challenge_Full_Dataset_20241018.csv\"\n",
    "df = pd.read_csv(file_path)\n",
    "\n",
    "# Drop leakage/irrelevant columns\n",
    "drop_cols = ['ID', 'Recidivism_Arrest_Year1', 'Recidivism_Arrest_Year2', 'Recidivism_Arrest_Year3', 'Training_Sample']\n",
    "df.drop(columns=drop_cols, inplace=True, errors='ignore')\n",
    "\n",
    "# Handle missing values\n",
    "df.fillna(df.median(numeric_only=True), inplace=True)\n",
    "df.fillna(\"Unknown\", inplace=True)\n",
    "\n",
    "# Encode categorical features\n",
    "df = pd.get_dummies(df, drop_first=True)\n",
    "\n",
    "# Define target and features\n",
    "target = 'Recidivism_Within_3years'\n",
    "X = df.drop(columns=[target])\n",
    "y = df[target]\n",
    "\n",
    "# Scale the features\n",
    "scaler = StandardScaler()\n",
    "X_scaled = scaler.fit_transform(X)\n",
    "\n",
    "# Train/test split\n",
    "X_train, X_test, y_train, y_test = train_test_split(X_scaled, y, test_size=0.3, random_state=42, stratify=y)\n",
    "\n",
    "# Logistic Regression (default = lbfgs)\n",
    "lr1 = LogisticRegression(max_iter=2000, solver='lbfgs')\n",
    "lr1.fit(X_train, y_train)\n",
    "pred1 = lr1.predict(X_test)\n",
    "acc1 = accuracy_score(y_test, pred1)\n",
    "auc1 = roc_auc_score(y_test, lr1.predict_proba(X_test)[:, 1])\n",
    "\n",
    "# Logistic Regression (saga solver)\n",
    "lr2 = LogisticRegression(max_iter=2000, solver='saga')\n",
    "lr2.fit(X_train, y_train)\n",
    "pred2 = lr2.predict(X_test)\n",
    "acc2 = accuracy_score(y_test, pred2)\n",
    "auc2 = roc_auc_score(y_test, lr2.predict_proba(X_test)[:, 1])\n",
    "\n",
    "# Logistic Regression (L1 penalty with saga)\n",
    "lr3 = LogisticRegression(max_iter=2000, solver='saga', penalty='l1')\n",
    "lr3.fit(X_train, y_train)\n",
    "pred3 = lr3.predict(X_test)\n",
    "acc3 = accuracy_score(y_test, pred3)\n",
    "auc3 = roc_auc_score(y_test, lr3.predict_proba(X_test)[:, 1])\n",
    "\n",
    "# Output comparison\n",
    "print(\"\\n🔍 Model Comparison (Accuracy and AUC):\")\n",
    "print(f\"Default Logistic Regression (lbfgs):   Accuracy = {acc1:.4f} | AUC = {auc1:.4f}\")\n",
    "print(f\"Logistic Regression (saga):            Accuracy = {acc2:.4f} | AUC = {auc2:.4f}\")\n",
    "print(f\"Logistic Regression (L1, saga):        Accuracy = {acc3:.4f} | AUC = {auc3:.4f}\")\n"
   ]
  },
  {
   "cell_type": "code",
   "execution_count": null,
   "id": "af865ae9",
   "metadata": {
    "papermill": {
     "duration": 0.001253,
     "end_time": "2025-07-06T20:34:53.866680",
     "exception": false,
     "start_time": "2025-07-06T20:34:53.865427",
     "status": "completed"
    },
    "tags": []
   },
   "outputs": [],
   "source": []
  }
 ],
 "metadata": {
  "kaggle": {
   "accelerator": "none",
   "dataSources": [
    {
     "datasetId": 7808165,
     "sourceId": 12382911,
     "sourceType": "datasetVersion"
    }
   ],
   "dockerImageVersionId": 31040,
   "isGpuEnabled": false,
   "isInternetEnabled": true,
   "language": "python",
   "sourceType": "notebook"
  },
  "kernelspec": {
   "display_name": "Python 3",
   "language": "python",
   "name": "python3"
  },
  "language_info": {
   "codemirror_mode": {
    "name": "ipython",
    "version": 3
   },
   "file_extension": ".py",
   "mimetype": "text/x-python",
   "name": "python",
   "nbconvert_exporter": "python",
   "pygments_lexer": "ipython3",
   "version": "3.11.11"
  },
  "papermill": {
   "default_parameters": {},
   "duration": 16.986313,
   "end_time": "2025-07-06T20:34:54.487522",
   "environment_variables": {},
   "exception": null,
   "input_path": "__notebook__.ipynb",
   "output_path": "__notebook__.ipynb",
   "parameters": {},
   "start_time": "2025-07-06T20:34:37.501209",
   "version": "2.6.0"
  }
 },
 "nbformat": 4,
 "nbformat_minor": 5
}
